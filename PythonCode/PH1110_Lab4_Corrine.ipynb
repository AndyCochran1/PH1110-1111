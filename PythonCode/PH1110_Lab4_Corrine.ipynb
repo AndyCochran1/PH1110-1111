{
 "cells": [
  {
   "cell_type": "code",
   "execution_count": 2,
   "metadata": {},
   "outputs": [
    {
     "name": "stdout",
     "output_type": "stream",
     "text": [
      "change in momentum: 0.09949999999999998 ± 0.0005974999999999999  kg * m/s\n",
      "change in KE: 0.02487500000000001 ± 0.00016425  J\n"
     ]
    }
   ],
   "source": [
    "\n",
    "### 1: velocity\n",
    "v_A0 = 0.1 #initial velocity A (from statistics analysis of velocity graph)\n",
    "dv_A0 = 0.0001 #uncertainty of \"\n",
    "\n",
    "v_Af = 0.2  #final velocity A (from statistics analysis of velocity graph)\n",
    "dv_Af = 0.0002 #uncertainty of \"\n",
    "\n",
    "v_B0 = 0.3 #initial velocity B (from statistics analysis of velocity graph)\n",
    "dv_B0 = 0.0003 #uncertainty of \"\n",
    "\n",
    "v_Bf = 0.4  #final velocity B (from statistics analysis of velocity graph)\n",
    "dv_Bf = 0.0004 #uncertainty of \"\n",
    "\n",
    "\n",
    "\n",
    "#For more information about propogating uncertainty for items that use addition or subtraction please see Lab 1. \n",
    "delta_vA = v_Af - v_A0 #change in velocity A\n",
    "dvA = dv_A0 + dv_Af #propogation of uncertainty for velocity A\n",
    "\n",
    "delta_vB = v_Bf - v_B0 #change in velocity B\n",
    "dvB = dv_B0 + dv_Bf #propogation of uncertainty for velocity B\n",
    "\n",
    "\n",
    "\n",
    "### 2: mass\n",
    "m = 0.4975 #measured mass of the cart in kg (same for A and B)\n",
    "dm = 0.0001 #uncertainty in \"\n",
    "\n",
    "\n",
    "### 3: momentum\n",
    "p_0 = (m * v_A0)+(m * v_B0) #initial momentum of the system\n",
    "dp_0 = p_0 * ((dm/m)+((dv_A0+dv_B0)/abs(v_A0+v_B0))) #uncertainty in \"\n",
    "#Some notes on the above equation\n",
    "#Don't need to do absolute value of m because it's already positive\n",
    "# dm/m here is essentially dx/abs(x) as written in eq. 4 in Lab 1R\n",
    "# that means (dv_A0+dv_B0)/abs(v_A0+v_B0))) corresponds to dy/abs(y) \" \n",
    "# p_0 corresponds to abs(A) in eq. 4 in Lab 1R. \n",
    "\n",
    "p_f = (m * v_Af)+(m * v_Bf) #final momentum of the system\n",
    "\n",
    "dp_f = p_f * ((dm/m)+((dv_Af+dv_Bf)/abs(v_Af+v_Bf))) #uncertainty in \"\n",
    "\n",
    "delta_p = p_f - p_0 #change in momentum\n",
    "dp = dp_f + dp_0 #uncertainty of \"\n",
    "print(\"change in momentum:\",delta_p,\"±\",dp,\" kg * m/s\") #print the change in momentum and its uncertainty\n",
    "\n",
    "\n",
    "### 4: kinetic energy\n",
    "K_0 = 0.5*((m * v_A0**2) + (m * v_B0**2)) #initial kinetic energy of the system\n",
    "dK_0 = K_0 * ((dm/m)+(2*(dv_A0+dv_B0)/abs(v_A0+v_B0))) #uncertainty in \"\n",
    "\n",
    "K_f = 0.5*((m * v_Af**2) + (m * v_Bf**2)) #final kinetic energy of the system\n",
    "dK_f = K_f * ((dm/m)+(2*(dv_Af+dv_Bf)/abs(v_Af+v_Bf))) #uncertainty in \"\n",
    "\n",
    "delta_K = K_f - K_0 #change in kinetic energy\n",
    "dK = dK_f + dK_0 #uncertainty of \"\n",
    "\n",
    "print(\"change in KE:\",delta_K,\"±\",dK,\" J\") #print the change in kinetic energy and its uncertainty"
   ]
  },
  {
   "cell_type": "code",
   "execution_count": null,
   "metadata": {},
   "outputs": [],
   "source": [
    "\n",
    "\n"
   ]
  }
 ],
 "metadata": {
  "kernelspec": {
   "display_name": "Python 3",
   "language": "python",
   "name": "python3"
  },
  "language_info": {
   "codemirror_mode": {
    "name": "ipython",
    "version": 3
   },
   "file_extension": ".py",
   "mimetype": "text/x-python",
   "name": "python",
   "nbconvert_exporter": "python",
   "pygments_lexer": "ipython3",
   "version": "3.7.0"
  }
 },
 "nbformat": 4,
 "nbformat_minor": 2
}
