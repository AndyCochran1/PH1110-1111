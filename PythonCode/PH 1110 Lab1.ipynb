{
 "cells": [
  {
   "cell_type": "markdown",
   "metadata": {},
   "source": [
    "# Lab 1 Significant Figures etc"
   ]
  },
  {
   "cell_type": "markdown",
   "metadata": {},
   "source": [
    "#### Reporting a measurement\n",
    "A properly formatted measurement should have the following attributes:\n",
    "\n",
    "-The correct number of significant figures for the uncertainty: One significant figure unless the leading digit is a 1 or 2, in which case you should use two significant figures.\n",
    "\n",
    "-The correct number of significant figures for the measurement: At the same order of magnitude (the same decimal position) as the uncertainty. (Numbers with the same order of magnitude, when written in scientific notation, have the same factor of ten. 10 and 20 are the same order of magnitude, 100 is an order of magnitude higher than 10).\n",
    "\n",
    "-All measurements must have units attached to them.\n"
   ]
  },
  {
   "cell_type": "markdown",
   "metadata": {},
   "source": [
    "#### Linear Error Propogation\n",
    "Using your ruler, measure the long side of your ID. Because your ruler is not long enough to measure the length in one measurement, you will need to take multiple measurements, each with their own uncertainties. (IMAGINATION) \n"
   ]
  },
  {
   "cell_type": "code",
   "execution_count": null,
   "metadata": {},
   "outputs": [],
   "source": [
    "# We would really like it if you comment every line please and thank you\n",
    "# This is written in Python 3.0\n",
    "x1 = 3  # First measurement \n",
    "x1u = 0.01 # uncertainty on x1\n",
    "x2 = 4 #Second measurement\n",
    "x2u = 0.01 # uncertainty on x2\n",
    "x3 = 2 #Third measurement \n",
    "x3u = 0.01 # uncertainty on x3\n",
    "\n",
    "x = x1 + x2 + x3\n",
    "xu = x1u + x2u + x3u  # How you add up the error estimates if your measurements are added or subtracted together\n",
    "\n",
    "print(\"x = \", x, 'cm')\n",
    "print(\"x uncertainty = \", xu, 'cm')"
   ]
  },
  {
   "cell_type": "markdown",
   "metadata": {},
   "source": [
    "#### Python Import fuction\n",
    "Below you can see me calling a package with the command \"import statistics as stat\". Python math programs are not intrinsic to the code unless you call them. The citation at the end of this paragraph has more information, but what you need to know if you are a beginner is that to use a function (like 'mean') you need to first call the package it is in (this case the statistics package.) \n",
    "\n",
    "Once I call that package I also need to give it a name so python knows when I'm using it. Here I've named it 'stat'. It's shorter while still conveying the idea of what it was. \n",
    "\n",
    "Citation: https://docs.python.org/3/reference/import.html"
   ]
  },
  {
   "cell_type": "code",
   "execution_count": null,
   "metadata": {},
   "outputs": [],
   "source": [
    "import statistics as stat "
   ]
  },
  {
   "cell_type": "markdown",
   "metadata": {},
   "source": [
    "Now I'm going to define the data I want to analyze. I'm going to call it 'x'. To define my variable, x, I put type it out to the left of an equal sign (x = ). Then on the right I add the bracket to show that I want more than one number (x = []). I have to be sure to close the brackets. If x was only one number I would write 'x = 1', but here I have a list of numbers I want to analyze. Therfore I write x = [1,2,3,4,5] with comma's between each number in my list. \n",
    "\n",
    "Next I want to take the mean of these numbers. Remember the equation for the mean is \n",
    "\n",
    "\\begin{equation}\n",
    "\\bar{x} = \\frac{1}{N}\\sum_{i=1}^Nx_i\n",
    "\\end{equation}\n",
    "\n",
    "What that complicated looking equation means is that you add up all the numbers in your list, then divide by the number of numbers. This is the same mean, or average, that you may have been taught before. $\\sum_{i=1}^N$ means that you are going to sum ($\\sum$) your numbers, starting with the first one (i = 1), and ending at the top one (N, which is the number of numbers). Then those numbers are represented as $x_i$, just as we write them above. The final step is to divide by the number of numbers, and that is represented by $\\frac{1}{N}$. $\\bar{x}$ is a common way to write average x.\n",
    "\n",
    "Python Citation: http://www-personal.umich.edu/~mejn/cp/chapters/programming.pdf\n",
    "Math Citation: https://en.wikipedia.org/wiki/Summation"
   ]
  },
  {
   "cell_type": "code",
   "execution_count": null,
   "metadata": {},
   "outputs": [],
   "source": [
    "x = [1,2,3,4,5]\n",
    "mean = stat.mean(x) #Here I call the mean function that's in the statistics package"
   ]
  },
  {
   "cell_type": "code",
   "execution_count": null,
   "metadata": {},
   "outputs": [],
   "source": [
    "stdev = stat.stdev(x)\n",
    "\n",
    "print(\"Mean of x = \",mean)\n",
    "print(\"Uncertainty in x = \", stdev)"
   ]
  },
  {
   "cell_type": "markdown",
   "metadata": {},
   "source": [
    "For the question where we ask you to report the mean and standard deviation of a your group's numbers you should use 10-20 reported width and length measuremetns. If your Lab Instructor gives you a list of numbers to use you should use those, but otherwise you can choose a selection of numbers from the Collected ID Measurements. If you cannot access the list you are welcome to use the table of numbers provided in your lab guide. \n",
    "\n",
    "Link: https://docs.google.com/spreadsheets/d/17gNX2qTnLRhWrJka3NaQMBV2wLrdCDF3ZsIkykQ_KYA/edit?usp=sharing "
   ]
  },
  {
   "cell_type": "code",
   "execution_count": null,
   "metadata": {},
   "outputs": [],
   "source": [
    "#y = [7.1,6.4,6.7,8.4, 8.3, 8.2, 8.0]\n",
    "\n",
    "y = [8.6,8.4,8.5,7.7,8.4,8.4,8.5,8.5,8.51,8.5]\n",
    "\n",
    "y_mean = stat.mean(y)\n",
    "y_stdev = stat.stdev(y)\n",
    "\n",
    "print(\"Mean of y = \",y_mean)\n",
    "print(\"Uncertainty in y = \", y_stdev)\n"
   ]
  },
  {
   "cell_type": "markdown",
   "metadata": {},
   "source": [
    "#### Reporting Uncertainty\n",
    "The correct number of significant figures for the uncertainty: One significant figure unless the leading digit is a 1 or 2, in which case you should use two significant figures\n",
    "\n",
    "So my uncertainty should be reported as 0.8. "
   ]
  },
  {
   "cell_type": "markdown",
   "metadata": {},
   "source": [
    "## Notes on learning Python\n",
    "\n",
    "Please review the link below if you have never used a Jypter notebook before, and are very lost about what to do. \n",
    "Link: https://www.youtube.com/watch?v=y2rJZNmykb0&feature=youtu.be\n",
    "\n",
    "If you are new to Python and want to learn more syntax please review the first chapter of Mark Newman's free online book.\n",
    "Link: http://www-personal.umich.edu/~mejn/computational-physics/"
   ]
  },
  {
   "cell_type": "code",
   "execution_count": null,
   "metadata": {},
   "outputs": [],
   "source": [
    "#w = [8,8.7,8.4,8.5,8.5,8.5,8.51,8.51,8.5,6.1,8.55]\n",
    "\n",
    "\n",
    "w = [1.56,1.45,1.38,1.52,1.49]\n",
    "\n",
    "w = [1.56,1.45,1.38,1.52,1.49]\n",
    "w_mean = stat.mean(w)\n",
    "w_stdev = stat.stdev(w)\n",
    "\n",
    "print(\"Mean of y = \",w_mean)\n",
    "print(\"Uncertainty in y = \", w_stdev)"
   ]
  },
  {
   "cell_type": "markdown",
   "metadata": {},
   "source": [
    "   # Range of Means for Width and Length\n",
    "   I've downloaded the student entered width and lengths (~600) on Sept 13 2020. Then I pull out a random selection of those numbers and do the mean and stdev of them. "
   ]
  },
  {
   "cell_type": "code",
   "execution_count": null,
   "metadata": {},
   "outputs": [],
   "source": [
    "import pandas as pd\n",
    "import matplotlib.pyplot as plt\n",
    "import random\n",
    "d1 = pd.read_csv(\"ID_meas.csv\") #Imports my csv file\n",
    "#print(d1.length)\n",
    "\n",
    "length_mean = []\n",
    "length_stdev = []\n",
    "length_mean.clear()\n",
    "length_stdev.clear()\n",
    "length = []"
   ]
  },
  {
   "cell_type": "code",
   "execution_count": null,
   "metadata": {},
   "outputs": [],
   "source": [
    "#If I use 20 measurements I get a mean on the scale of 8.5 to 8.3 and a stdev of 0.6 to 0.2\n",
    "#Then when I used 10 that gave me a max mean of 9.2, min 7.7 and stdve range of1.2 and 0.0\n",
    "for yy in range(1,100): #THIS WILL TAKE A WHILE TO RUN\n",
    "    length.clear()\n",
    "    for ii in range(1,10): \n",
    "        length.append(random.choice(d1.length)) #Using this function to choose 20 random numbers for my length\n",
    "\n",
    "    length_mean.append(stat.mean(length)) #Here I call the mean function that's in the statistics package\n",
    "    length_stdev.append(stat.stdev(length))\n",
    "\n",
    "#print(\"Mean of x = \",length_mean)\n",
    "#print(\"Uncertainty in x = \", length_stdev)"
   ]
  },
  {
   "cell_type": "code",
   "execution_count": null,
   "metadata": {},
   "outputs": [],
   "source": [
    "print('max of mean = ', max(length_mean))\n",
    "print('min of mean = ',min(length_mean))"
   ]
  },
  {
   "cell_type": "code",
   "execution_count": null,
   "metadata": {},
   "outputs": [],
   "source": [
    "print('max of stdev = ', max(length_stdev))\n",
    "print('min of stdev = ', min(length_stdev))"
   ]
  },
  {
   "cell_type": "code",
   "execution_count": null,
   "metadata": {},
   "outputs": [],
   "source": [
    "w_mean = []\n",
    "w_stdev = []\n",
    "w_mean.clear()\n",
    "w_stdev.clear()\n",
    "width = [1,2,3]"
   ]
  },
  {
   "cell_type": "code",
   "execution_count": null,
   "metadata": {},
   "outputs": [],
   "source": [
    "#If I use 20 measurements I get a mean on the scale of 8.5 to 8.3 and a stdev of 0.6 to 0.2\n",
    "#Then when I used 10 that gave me a max mean of 6.0, min 4.5 and stdve range of 0.9 and 0.29\n",
    "for yy in range(1,10000): #THIS WILL TAKE A WHILE TO RUN IF IT'S AT 10000\n",
    "    width.clear()\n",
    "    while len(width) <20:\n",
    "    #for ii in range(1,10): \n",
    "        #if len(width) > 1:\n",
    "        #    while not width[-1].isdigit():\n",
    "        #        width.append(random.choice(d1.width)) #Using this function to choose random numbers for my measurement\n",
    "        #else:\n",
    "            #width.append(random.choice(d1.width)) #Using this function to choose random numbers for my measurement\n",
    "          \n",
    "        zz = random.choice(d1.width)\n",
    "        if zz.isdigit():\n",
    "            width.append(int(zz))\n",
    "        else:\n",
    "            continue\n",
    "            \n",
    "        \n",
    "    w_mean.append(stat.mean(width)) #Here I call the mean function that's in the statistics package\n",
    "    w_stdev.append(stat.stdev(width))\n",
    "\n",
    "#print(\"Mean of x = \",length_mean) #Only do this if it's very small, you've been warned. \n",
    "#print(\"Uncertainty in x = \", length_stdev)"
   ]
  },
  {
   "cell_type": "code",
   "execution_count": null,
   "metadata": {},
   "outputs": [],
   "source": [
    "print('max of width mean = ', max(w_mean))\n",
    "print('min of width mean = ',min(w_mean))\n",
    "print('max of stdev = ', max(w_stdev))\n",
    "print('min of stdev = ', min(w_stdev))"
   ]
  }
 ],
 "metadata": {
  "kernelspec": {
   "display_name": "Python 3",
   "language": "python",
   "name": "python3"
  },
  "language_info": {
   "codemirror_mode": {
    "name": "ipython",
    "version": 3
   },
   "file_extension": ".py",
   "mimetype": "text/x-python",
   "name": "python",
   "nbconvert_exporter": "python",
   "pygments_lexer": "ipython3",
   "version": "3.7.0"
  }
 },
 "nbformat": 4,
 "nbformat_minor": 2
}
