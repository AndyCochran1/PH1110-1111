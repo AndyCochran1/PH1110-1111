{
 "cells": [
  {
   "cell_type": "markdown",
   "metadata": {},
   "source": [
    "# Lab 1 Significant Figures etc"
   ]
  },
  {
   "cell_type": "markdown",
   "metadata": {},
   "source": [
    "#### Reporting a measurement\n",
    "A properly formatted measurement should have the following attributes:\n",
    "\n",
    "-The correct number of significant figures for the uncertainty: One significant figure unless the leading digit is a 1 or 2, in which case you should use two significant figures.\n",
    "\n",
    "-The correct number of significant figures for the measurement: At the same order of magnitude (the same decimal position) as the uncertainty. (Numbers with the same order of magnitude, when written in scientific notation, have the same factor of ten. 10 and 20 are the same order of magnitude, 100 is an order of magnitude higher than 10).\n",
    "\n",
    "-All measurements must have units attached to them.\n"
   ]
  },
  {
   "cell_type": "markdown",
   "metadata": {},
   "source": [
    "#### Linear Error Propogation\n",
    "Using your ruler, measure the long side of your ID. Because your ruler is not long enough to measure the length in one measurement, you will need to take multiple measurements, each with their own uncertainties. (IMAGINATION) \n"
   ]
  },
  {
   "cell_type": "code",
   "execution_count": 2,
   "metadata": {},
   "outputs": [
    {
     "name": "stdout",
     "output_type": "stream",
     "text": [
      "x =  9 cm\n",
      "x uncertainty =  0.03 cm\n"
     ]
    }
   ],
   "source": [
    "# We would really like it if you comment every line please and thank you\n",
    "x1 = 3  # First measurement \n",
    "x1u = 0.01 # uncertainty on x1\n",
    "x2 = 4 #Second measurement\n",
    "x2u = 0.01 # uncertainty on x2\n",
    "x3 = 2 #Third measurement \n",
    "x3u = 0.01 # uncertainty on x3\n",
    "\n",
    "x = x1 + x2 + x3\n",
    "xu = x1u + x2u + x3u  # How you add up the error estimates if your measurements are added or subtracted together\n",
    "\n",
    "print(\"x = \", x, 'cm')\n",
    "print(\"x uncertainty = \", xu, 'cm')"
   ]
  },
  {
   "cell_type": "markdown",
   "metadata": {},
   "source": [
    "#### Python Import fuction\n",
    "Below you can see me calling a package with the command \"import statistics as stat\". Python math programs are not intrinsic to the code unless you call them. The citation at the end of this paragraph has more information, but what you need to know if you are a beginner is that to use a function (like 'mean') you need to first call the package it is in (this case the statistics package.) \n",
    "\n",
    "Once I call that package I also need to give it a name so python knows when I'm using it. Here I've named it 'stat'. It's shorter while still conveying the idea of what it was. \n",
    "\n",
    "Citation: https://docs.python.org/3/reference/import.html"
   ]
  },
  {
   "cell_type": "code",
   "execution_count": 3,
   "metadata": {},
   "outputs": [],
   "source": [
    "import statistics as stat "
   ]
  },
  {
   "cell_type": "markdown",
   "metadata": {},
   "source": [
    "Now I'm going to define the data I want to analyze. I'm going to call it 'x'. To define my variable, x, I put type it out to the left of an equal sign (x = ). Then on the right I add the bracket to show that I want more than one number (x = []). I have to be sure to close the brackets. If x was only one number I would write 'x = 1', but here I have a list of numbers I want to analyze. Therfore I write x = [1,2,3,4,5] with comma's between each number in my list. \n",
    "\n",
    "Next I want to take the mean of these numbers. Remember the equation for the mean is \n",
    "\n",
    "\\begin{equation}\n",
    "\\bar{x} = \\frac{1}{N}\\sum_{i=1}^Nx_i\n",
    "\\end{equation}\n",
    "\n",
    "Well what that complicated looking equation means is that you add up all the numbers in your list, then divide by the number of numbers. This is the same mean, or average, that you may have been taught before. $\\sum_{i=1}^N$ means that you are going to sum ($\\sum$) your numbers, starting with the first one (i = 1), and ending at the top one (N, which is the number of numbers). Then those numbers are represented as $x_i$, just as we write them above. The final step is to divide by the number of numbers, and that is represented by $\\frac{1}{N}$. $\\bar{x}$ is a common way to write average x.\n",
    "\n",
    "Python Citation: http://www-personal.umich.edu/~mejn/cp/chapters/programming.pdf\n",
    "Math Citation: https://en.wikipedia.org/wiki/Summation"
   ]
  },
  {
   "cell_type": "code",
   "execution_count": 4,
   "metadata": {},
   "outputs": [],
   "source": [
    "x = [1,2,3,4,5]\n",
    "mean = stat.mean(x) #Here I call the mean function that's in the statistics package"
   ]
  },
  {
   "cell_type": "code",
   "execution_count": 5,
   "metadata": {},
   "outputs": [
    {
     "name": "stdout",
     "output_type": "stream",
     "text": [
      "Mean of x =  3\n",
      "Uncertainty in x =  1.5811388300841898\n"
     ]
    }
   ],
   "source": [
    "stdev = stat.stdev(x)\n",
    "\n",
    "print(\"Mean of x = \",mean)\n",
    "print(\"Uncertainty in x = \", stdev)"
   ]
  },
  {
   "cell_type": "code",
   "execution_count": 6,
   "metadata": {},
   "outputs": [
    {
     "name": "stdout",
     "output_type": "stream",
     "text": [
      "Mean of y =  7.585714285714285\n",
      "Uncertainty in y =  0.8315218406202999\n"
     ]
    }
   ],
   "source": [
    "y = [7.1,6.4,6.7,8.4, 8.3, 8.2, 8.0]\n",
    "y_mean = stat.mean(y)\n",
    "y_stdev = stat.stdev(y)\n",
    "\n",
    "print(\"Mean of y = \",y_mean)\n",
    "print(\"Uncertainty in y = \", y_stdev)\n"
   ]
  },
  {
   "cell_type": "markdown",
   "metadata": {},
   "source": [
    "#### Reporting Uncertainty\n",
    "The correct number of significant figures for the uncertainty: One significant figure unless the leading digit is a 1 or 2, in which case you should use two significant figures\n",
    "\n",
    "So my uncertainty should be reported as 0.8. "
   ]
  },
  {
   "cell_type": "markdown",
   "metadata": {},
   "source": [
    "## Notes on learning Python\n",
    "\n",
    "Please review the link below if you have never used a Jypter notebook before, and are very lost about what to do. \n",
    "Link: https://www.youtube.com/watch?v=y2rJZNmykb0&feature=youtu.be\n",
    "\n",
    "If you are new to Python and want to learn more syntax please review the first chapter of Mark Newman's free online book.\n",
    "Link: http://www-personal.umich.edu/~mejn/computational-physics/"
   ]
  },
  {
   "cell_type": "code",
   "execution_count": null,
   "metadata": {},
   "outputs": [],
   "source": []
  }
 ],
 "metadata": {
  "kernelspec": {
   "display_name": "Python 3",
   "language": "python",
   "name": "python3"
  },
  "language_info": {
   "codemirror_mode": {
    "name": "ipython",
    "version": 3
   },
   "file_extension": ".py",
   "mimetype": "text/x-python",
   "name": "python",
   "nbconvert_exporter": "python",
   "pygments_lexer": "ipython3",
   "version": "3.7.0"
  }
 },
 "nbformat": 4,
 "nbformat_minor": 2
}
